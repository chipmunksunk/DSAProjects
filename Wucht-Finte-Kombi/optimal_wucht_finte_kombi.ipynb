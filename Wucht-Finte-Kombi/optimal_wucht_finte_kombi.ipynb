{
 "cells": [
  {
   "cell_type": "code",
   "execution_count": null,
   "metadata": {},
   "outputs": [],
   "source": [
    "import numpy as np\n",
    "import matplotlib.pyplot as plt\n",
    "\n",
    "easy_life = True\n",
    "\n",
    "if easy_life:\n",
    "    attack_value = 1\n",
    "    parade_value = 20\n",
    "\n",
    "else:\n",
    "    attack_value = int(input(\"Geben sie den AT-Wert des Angreifers an: \"))\n",
    "    parade_value = int(input(\"Geben sie den PA-Wert des Verteidigers an: \"))\n",
    "\n",
    "dice_values_W20 = np.array([1, 2, 3, 4, 5, 6, 7, 8, 9, 10, 11, 12, 13, 14, 15, 16, 17, 18, 19, 20])\n",
    "dice_values_W6 = np.array([1, 2, 3, 4, 5, 6])\n",
    "\n",
    "prob_hit_list = []\n",
    "\n",
    "for finte in range(attack_value):\n",
    "    new_attack_value = attack_value - finte\n",
    "    new_parade_value = parade_value - finte\n",
    "\n",
    "    # print(new_parade_value)\n",
    "    # print(new_attack_value)\n",
    "    prob_attack = np.sum(dice_values_W20 <= new_attack_value) / 20\n",
    "    print(prob_attack)\n",
    "    if new_parade_value >= 1:\n",
    "        prob_parade = np.sum(dice_values_W20 <= new_parade_value) / 20\n",
    "    else:\n",
    "        prob_parade = 1 / 20\n",
    "\n",
    "    prob_hit = prob_attack * (1 - prob_parade)\n",
    "    prob_hit_list.append(prob_hit)\n",
    "\n",
    "information_array = np.array([range(attack_value), prob_hit_list])\n",
    "\n",
    "max_prob = np.max(information_array[1, :])\n",
    "max_index = np.argmax(information_array[1, :])\n",
    "print(\"Höchste Trefferwahrscheinlichkeit (\" + str(round(max_prob * 100, 2)) + \" %) bei Finte \" + str(max_index))"
   ]
  }
 ],
 "metadata": {
  "language_info": {
   "name": "python"
  }
 },
 "nbformat": 4,
 "nbformat_minor": 2
}
